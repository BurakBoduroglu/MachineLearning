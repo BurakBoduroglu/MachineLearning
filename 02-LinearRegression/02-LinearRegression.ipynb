{
 "cells": [
  {
   "cell_type": "code",
   "execution_count": 1,
   "id": "cd67ef0a",
   "metadata": {},
   "outputs": [],
   "source": [
    "import pandas as pd\n",
    "import numpy as np\n",
    "import matplotlib.pyplot as plt"
   ]
  },
  {
   "cell_type": "code",
   "execution_count": 2,
   "id": "d889b7c9",
   "metadata": {},
   "outputs": [],
   "source": [
    "sales_df = pd.read_excel(\"sales.xlsx\")"
   ]
  },
  {
   "cell_type": "code",
   "execution_count": 3,
   "id": "ddf48b0a",
   "metadata": {},
   "outputs": [
    {
     "name": "stdout",
     "output_type": "stream",
     "text": [
      "    Months    Sales\n",
      "0        8  19671.5\n",
      "1       10  23102.5\n",
      "2       11  18865.5\n",
      "3       13  21762.5\n",
      "4       14  19945.5\n",
      "5       19  28321.0\n",
      "6       19  30075.0\n",
      "7       20  32222.5\n",
      "8       20  27222.5\n",
      "9       24  28594.5\n",
      "10      25  31609.0\n",
      "11      25  27897.0\n",
      "12      25  28478.5\n",
      "13      26  28540.5\n",
      "14      29  30555.5\n",
      "15      31  33969.0\n",
      "16      32  33014.5\n",
      "17      34  41544.0\n",
      "18      37  40681.5\n",
      "19      37  46970.0\n",
      "20      42  45869.0\n",
      "21      44  49136.5\n",
      "22      49  50651.0\n",
      "23      50  56906.0\n",
      "24      54  54715.5\n",
      "25      55  52791.0\n",
      "26      59  58484.5\n",
      "27      59  56317.5\n",
      "28      64  61195.5\n",
      "29      65  60936.0\n"
     ]
    }
   ],
   "source": [
    "print(sales_df)"
   ]
  },
  {
   "cell_type": "code",
   "execution_count": 5,
   "id": "c5997ae9",
   "metadata": {},
   "outputs": [
    {
     "name": "stdout",
     "output_type": "stream",
     "text": [
      "    Months\n",
      "0        8\n",
      "1       10\n",
      "2       11\n",
      "3       13\n",
      "4       14\n",
      "5       19\n",
      "6       19\n",
      "7       20\n",
      "8       20\n",
      "9       24\n",
      "10      25\n",
      "11      25\n",
      "12      25\n",
      "13      26\n",
      "14      29\n",
      "15      31\n",
      "16      32\n",
      "17      34\n",
      "18      37\n",
      "19      37\n",
      "20      42\n",
      "21      44\n",
      "22      49\n",
      "23      50\n",
      "24      54\n",
      "25      55\n",
      "26      59\n",
      "27      59\n",
      "28      64\n",
      "29      65\n"
     ]
    }
   ],
   "source": [
    "months = sales_df[[\"Months\"]]\n",
    "sales = sales_df[[\"Sales\"]]\n",
    "print(months)"
   ]
  },
  {
   "cell_type": "code",
   "execution_count": 6,
   "id": "9b9e9d01",
   "metadata": {},
   "outputs": [
    {
     "name": "stdout",
     "output_type": "stream",
     "text": [
      "      Sales\n",
      "0   19671.5\n",
      "1   23102.5\n",
      "2   18865.5\n",
      "3   21762.5\n",
      "4   19945.5\n",
      "5   28321.0\n",
      "6   30075.0\n",
      "7   32222.5\n",
      "8   27222.5\n",
      "9   28594.5\n",
      "10  31609.0\n",
      "11  27897.0\n",
      "12  28478.5\n",
      "13  28540.5\n",
      "14  30555.5\n",
      "15  33969.0\n",
      "16  33014.5\n",
      "17  41544.0\n",
      "18  40681.5\n",
      "19  46970.0\n",
      "20  45869.0\n",
      "21  49136.5\n",
      "22  50651.0\n",
      "23  56906.0\n",
      "24  54715.5\n",
      "25  52791.0\n",
      "26  58484.5\n",
      "27  56317.5\n",
      "28  61195.5\n",
      "29  60936.0\n"
     ]
    }
   ],
   "source": [
    "print(sales)"
   ]
  },
  {
   "cell_type": "code",
   "execution_count": 7,
   "id": "c41ef68d",
   "metadata": {},
   "outputs": [],
   "source": [
    "from sklearn.model_selection import train_test_split\n",
    "x_train, x_test, y_train, y_test = train_test_split(months, sales, test_size = 0.33, random_state = 0)"
   ]
  },
  {
   "cell_type": "code",
   "execution_count": 8,
   "id": "14b6970c",
   "metadata": {},
   "outputs": [
    {
     "data": {
      "text/plain": [
       "LinearRegression()"
      ]
     },
     "execution_count": 8,
     "metadata": {},
     "output_type": "execute_result"
    }
   ],
   "source": [
    "from sklearn.linear_model import LinearRegression\n",
    "lr = LinearRegression()\n",
    "lr.fit(x_train, y_train)"
   ]
  },
  {
   "cell_type": "code",
   "execution_count": 9,
   "id": "6ac119c8",
   "metadata": {},
   "outputs": [],
   "source": [
    "predict = lr.predict(x_test)"
   ]
  },
  {
   "cell_type": "code",
   "execution_count": 10,
   "id": "8a022483",
   "metadata": {},
   "outputs": [],
   "source": [
    "x_train = x_train.sort_index()\n",
    "y_train = y_train.sort_index()"
   ]
  },
  {
   "cell_type": "code",
   "execution_count": 11,
   "id": "08281567",
   "metadata": {},
   "outputs": [
    {
     "data": {
      "text/plain": [
       "[<matplotlib.lines.Line2D at 0x26e0df21430>]"
      ]
     },
     "execution_count": 11,
     "metadata": {},
     "output_type": "execute_result"
    },
    {
     "data": {
      "image/png": "[encoded data removed]",
      "text/plain": [
       "<Figure size 432x288 with 1 Axes>"
      ]
     },
     "metadata": {
      "needs_background": "light"
     },
     "output_type": "display_data"
    }
   ],
   "source": [
    "plt.scatter(x_train, y_train, c = \"black\")\n",
    "plt.title(\"Sales for Months\")\n",
    "plt.xlabel(\"Months\")\n",
    "plt.ylabel(\"Sales\")\n",
    "plt.plot(x_test, predict, linewidth = 2)"
   ]
  }
 ],
 "metadata": {
  "kernelspec": {
   "display_name": "Python 3 (ipykernel)",
   "language": "python",
   "name": "python3"
  },
  "language_info": {
   "codemirror_mode": {
    "name": "ipython",
    "version": 3
   },
   "file_extension": ".py",
   "mimetype": "text/x-python",
   "name": "python",
   "nbconvert_exporter": "python",
   "pygments_lexer": "ipython3",
   "version": "3.9.7"
  }
 },
 "nbformat": 4,
 "nbformat_minor": 5
}
